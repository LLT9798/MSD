{
 "cells": [
  {
   "cell_type": "markdown",
   "metadata": {},
   "source": [
    "HDF5 for Python: http://docs.h5py.org/en/latest/"
   ]
  },
  {
   "cell_type": "markdown",
   "metadata": {},
   "source": [
    "## Load modules"
   ]
  },
  {
   "cell_type": "code",
   "execution_count": 77,
   "metadata": {
    "collapsed": true
   },
   "outputs": [],
   "source": [
    "import h5py \n",
    "import os\n",
    "import itertools\n",
    "import re"
   ]
  },
  {
   "cell_type": "markdown",
   "metadata": {},
   "source": [
    "## Define helper functions"
   ]
  },
  {
   "cell_type": "code",
   "execution_count": 3,
   "metadata": {
    "collapsed": true
   },
   "outputs": [],
   "source": [
    "def get_filenames(path):\n",
    "    return([get_filenames(path+\"/\"+entry.name)\n",
    "            if entry.is_dir() \n",
    "            else path+\"/\"+entry.name \n",
    "            for entry \n",
    "            in os.scandir(path)\n",
    "           ])\n",
    "def unlist(alist):\n",
    "    return(list(itertools.chain.from_iterable(alist)\n",
    "               )\n",
    "          )\n",
    "def check_HDF5_Group(Group):\n",
    "    for key in list(Group.keys()):\n",
    "        print('key:', key)\n",
    "    for value in list(Group.values()):\n",
    "        print('value:', value)\n",
    "\n",
    "def check_HDF5_Dataset(Dataset):\n",
    "    print('shape:',Dataset.shape)\n",
    "    print('dtype:',Dataset.dtype)\n",
    "    print('type(bc.value):',type(Dataset.value))\n",
    "    print('value:',Dataset.value)"
   ]
  },
  {
   "cell_type": "markdown",
   "metadata": {},
   "source": [
    "## Get list of filenames"
   ]
  },
  {
   "cell_type": "code",
   "execution_count": 23,
   "metadata": {
    "collapsed": false
   },
   "outputs": [],
   "source": [
    "path = \"/Users/David/Dropbox/Data/MillionSongSubset/data\"\n",
    "x = unlist(unlist(unlist(get_filenames(path))))\n",
    "p = re.compile(\"\\.h5$\")\n",
    "y = [filename for filename in x if p.search(filename)]"
   ]
  },
  {
   "cell_type": "markdown",
   "metadata": {},
   "source": [
    "## Open the first HDF5 file y[0].\n",
    "\n",
    "Each files contains data for a single track or song. (Need to figure this out.)"
   ]
  },
  {
   "cell_type": "code",
   "execution_count": 5,
   "metadata": {
    "collapsed": false
   },
   "outputs": [],
   "source": [
    "f = h5py.File(y[0], \"r\")"
   ]
  },
  {
   "cell_type": "code",
   "execution_count": 6,
   "metadata": {
    "collapsed": false
   },
   "outputs": [
    {
     "name": "stdout",
     "output_type": "stream",
     "text": [
      "key: analysis\n",
      "key: metadata\n",
      "key: musicbrainz\n",
      "value: <HDF5 group \"/analysis\" (16 members)>\n",
      "value: <HDF5 group \"/metadata\" (5 members)>\n",
      "value: <HDF5 group \"/musicbrainz\" (3 members)>\n"
     ]
    }
   ],
   "source": [
    "check_HDF5_Group(f[\"/\"])"
   ]
  },
  {
   "cell_type": "markdown",
   "metadata": {},
   "source": [
    "## Look at the `/metadata` group"
   ]
  },
  {
   "cell_type": "code",
   "execution_count": 7,
   "metadata": {
    "collapsed": false
   },
   "outputs": [
    {
     "name": "stdout",
     "output_type": "stream",
     "text": [
      "key: artist_terms\n",
      "key: artist_terms_freq\n",
      "key: artist_terms_weight\n",
      "key: similar_artists\n",
      "key: songs\n",
      "value: <HDF5 dataset \"artist_terms\": shape (37,), type \"|S256\">\n",
      "value: <HDF5 dataset \"artist_terms_freq\": shape (37,), type \"<f8\">\n",
      "value: <HDF5 dataset \"artist_terms_weight\": shape (37,), type \"<f8\">\n",
      "value: <HDF5 dataset \"similar_artists\": shape (100,), type \"|S20\">\n",
      "value: <HDF5 dataset \"songs\": shape (1,), type \"|V5320\">\n"
     ]
    }
   ],
   "source": [
    "check_HDF5_Group(f[\"/metadata\"])"
   ]
  },
  {
   "cell_type": "markdown",
   "metadata": {},
   "source": [
    "Need to figure out what the `freq` and `weight` say about the `artist_terms`."
   ]
  },
  {
   "cell_type": "code",
   "execution_count": 17,
   "metadata": {
    "collapsed": false
   },
   "outputs": [
    {
     "data": {
      "text/plain": [
       "array([b'hip hop', b'underground rap', b'g funk', b'alternative rap',\n",
       "       b'gothic rock', b'west coast rap', b'rap', b'club dance',\n",
       "       b'singer-songwriter', b'chill-out', b'underground hip hop', b'rock',\n",
       "       b'gothic', b'san francisco bay area', b'indie', b'american',\n",
       "       b'punk', b'california', b'industrial', b'new york', b'90s',\n",
       "       b'latin', b'spanish', b'dark', b'ebm', b'underground', b'deathrock',\n",
       "       b'west coast', b'san francisco', b'producer', b'oakland',\n",
       "       b'catalan', b'barcelona', b'doomsdope', b'norcal',\n",
       "       b'west coast hip hop', b'alternative rock'], \n",
       "      dtype='|S256')"
      ]
     },
     "execution_count": 17,
     "metadata": {},
     "output_type": "execute_result"
    }
   ],
   "source": [
    "f[\"/metadata/artist_terms\"].value"
   ]
  },
  {
   "cell_type": "code",
   "execution_count": 18,
   "metadata": {
    "collapsed": false
   },
   "outputs": [
    {
     "data": {
      "text/plain": [
       "array([ 1.        ,  0.77613623,  0.72966979,  0.68301072,  0.73013328,\n",
       "        0.6715377 ,  0.80834839,  0.63365545,  0.72966979,  0.5663102 ,\n",
       "        0.57592584,  0.76900909,  0.58208775,  0.47493557,  0.67402276,\n",
       "        0.61640511,  0.64964936,  0.51614094,  0.6000771 ,  0.51980619,\n",
       "        0.59353997,  0.56511801,  0.55205485,  0.53260669,  0.53958053,\n",
       "        0.50931501,  0.45188402,  0.4484606 ,  0.43320144,  0.4322592 ,\n",
       "        0.42699224,  0.40636693,  0.36872193,  0.35580011,  0.33148334,\n",
       "        0.28803951,  0.3212017 ])"
      ]
     },
     "execution_count": 18,
     "metadata": {},
     "output_type": "execute_result"
    }
   ],
   "source": [
    "f[\"/metadata/artist_terms_freq\"].value"
   ]
  },
  {
   "cell_type": "code",
   "execution_count": 19,
   "metadata": {
    "collapsed": false
   },
   "outputs": [
    {
     "data": {
      "text/plain": [
       "array([ 1.        ,  0.89793596,  0.88426185,  0.84262975,  0.84256301,\n",
       "        0.83239282,  0.82577707,  0.79859195,  0.7431759 ,  0.73850237,\n",
       "        0.72505245,  0.71389955,  0.67049417,  0.65697231,  0.65105613,\n",
       "        0.65105612,  0.65105597,  0.65105592,  0.65105547,  0.65105532,\n",
       "        0.65105508,  0.65105506,  0.65105461,  0.65105427,  0.65105376,\n",
       "        0.65104997,  0.6364043 ,  0.63334971,  0.61973455,  0.61889383,\n",
       "        0.61419433,  0.59579116,  0.56220197,  0.55067233,  0.52897541,\n",
       "        0.49021215,  0.38341077])"
      ]
     },
     "execution_count": 19,
     "metadata": {},
     "output_type": "execute_result"
    }
   ],
   "source": [
    "f[\"/metadata/artist_terms_weight\"].value"
   ]
  },
  {
   "cell_type": "markdown",
   "metadata": {},
   "source": [
    "Artist identifiers are strings that start with \"AR\"."
   ]
  },
  {
   "cell_type": "code",
   "execution_count": 234,
   "metadata": {
    "collapsed": false
   },
   "outputs": [
    {
     "name": "stdout",
     "output_type": "stream",
     "text": [
      "shape: (1,)\n",
      "dtype: [('analysis_sample_rate', '<i4'), ('audio_md5', 'S32'), ('danceability', '<f8'), ('duration', '<f8'), ('end_of_fade_in', '<f8'), ('energy', '<f8'), ('idx_bars_confidence', '<i4'), ('idx_bars_start', '<i4'), ('idx_beats_confidence', '<i4'), ('idx_beats_start', '<i4'), ('idx_sections_confidence', '<i4'), ('idx_sections_start', '<i4'), ('idx_segments_confidence', '<i4'), ('idx_segments_loudness_max', '<i4'), ('idx_segments_loudness_max_time', '<i4'), ('idx_segments_loudness_start', '<i4'), ('idx_segments_pitches', '<i4'), ('idx_segments_start', '<i4'), ('idx_segments_timbre', '<i4'), ('idx_tatums_confidence', '<i4'), ('idx_tatums_start', '<i4'), ('key', '<i4'), ('key_confidence', '<f8'), ('loudness', '<f8'), ('mode', '<i4'), ('mode_confidence', '<f8'), ('start_of_fade_out', '<f8'), ('tempo', '<f8'), ('time_signature', '<i4'), ('time_signature_confidence', '<f8'), ('track_id', 'S32')]\n",
      "type(bc.value): <class 'numpy.ndarray'>\n",
      "value: [ (22050, b'a222795e07cd65b7a530f1346f520649', 0.0, 218.93179, 0.247, 0.0, 0, 0, 0, 0, 0, 0, 0, 0, 0, 0, 0, 0, 0, 0, 0, 1, 0.736, -11.197, 0, 0.636, 218.932, 92.198, 4, 0.778, b'TRAAAAW128F429D538')]\n"
     ]
    }
   ],
   "source": [
    "check_HDF5_Dataset(f[\"/analysis/songs\"])"
   ]
  },
  {
   "cell_type": "markdown",
   "metadata": {},
   "source": [
    "The `/metadata/songs` values correspond to the single value variables. Notice that the _file-song_ dataset contains multiple value variables. "
   ]
  },
  {
   "cell_type": "markdown",
   "metadata": {},
   "source": [
    "Why are the values in the first element of `value` object? There is no second element. At least, the other element (which seems to be named `dtype`)  cannot be accessed as the second element or as an element named `dtype`. "
   ]
  },
  {
   "cell_type": "code",
   "execution_count": 159,
   "metadata": {
    "collapsed": false
   },
   "outputs": [
    {
     "name": "stdout",
     "output_type": "stream",
     "text": [
      "int32\n",
      "|S32\n",
      "float64\n",
      "float64\n",
      "float64\n",
      "float64\n",
      "int32\n",
      "int32\n",
      "int32\n",
      "int32\n",
      "int32\n",
      "int32\n",
      "int32\n",
      "int32\n",
      "int32\n",
      "int32\n",
      "int32\n",
      "int32\n",
      "int32\n",
      "int32\n",
      "int32\n",
      "int32\n",
      "float64\n",
      "float64\n",
      "int32\n",
      "float64\n",
      "float64\n",
      "float64\n",
      "int32\n",
      "float64\n",
      "|S32\n"
     ]
    }
   ],
   "source": [
    "import numpy\n",
    "for i in numpy.arange(0,len(bc.dtype)): \n",
    "    print(bc.dtype[int(i)])"
   ]
  },
  {
   "cell_type": "code",
   "execution_count": 181,
   "metadata": {
    "collapsed": false
   },
   "outputs": [
    {
     "data": {
      "text/plain": [
       "array([ (22050, b'a222795e07cd65b7a530f1346f520649', 0.0, 218.93179, 0.247, 0.0, 0, 0, 0, 0, 0, 0, 0, 0, 0, 0, 0, 0, 0, 0, 0, 1, 0.736, -11.197, 0, 0.636, 218.932, 92.198, 4, 0.778, b'TRAAAAW128F429D538')], \n",
       "      dtype=[('analysis_sample_rate', '<i4'), ('audio_md5', 'S32'), ('danceability', '<f8'), ('duration', '<f8'), ('end_of_fade_in', '<f8'), ('energy', '<f8'), ('idx_bars_confidence', '<i4'), ('idx_bars_start', '<i4'), ('idx_beats_confidence', '<i4'), ('idx_beats_start', '<i4'), ('idx_sections_confidence', '<i4'), ('idx_sections_start', '<i4'), ('idx_segments_confidence', '<i4'), ('idx_segments_loudness_max', '<i4'), ('idx_segments_loudness_max_time', '<i4'), ('idx_segments_loudness_start', '<i4'), ('idx_segments_pitches', '<i4'), ('idx_segments_start', '<i4'), ('idx_segments_timbre', '<i4'), ('idx_tatums_confidence', '<i4'), ('idx_tatums_start', '<i4'), ('key', '<i4'), ('key_confidence', '<f8'), ('loudness', '<f8'), ('mode', '<i4'), ('mode_confidence', '<f8'), ('start_of_fade_out', '<f8'), ('tempo', '<f8'), ('time_signature', '<i4'), ('time_signature_confidence', '<f8'), ('track_id', 'S32')])"
      ]
     },
     "execution_count": 181,
     "metadata": {},
     "output_type": "execute_result"
    }
   ],
   "source": [
    "bc.value # two elements here"
   ]
  },
  {
   "cell_type": "markdown",
   "metadata": {},
   "source": [
    "## Check out /analysis/tatums_start\n",
    "\n",
    "Note that we have a (a vector of) `688` values this variable, for this song. "
   ]
  },
  {
   "cell_type": "code",
   "execution_count": 7,
   "metadata": {
    "collapsed": false
   },
   "outputs": [
    {
     "name": "stdout",
     "output_type": "stream",
     "text": [
      "shape: (688,)\n",
      "dtype: float64\n",
      "type(bc.value): <class 'numpy.ndarray'>\n",
      "value: [   0.28519    0.58521    0.89422    1.19196    1.49119    1.78893\n",
      "    2.0828     2.37813    2.66761    2.94247    3.23074    3.50622\n",
      "    3.79165    4.05077    4.3099     4.56902    4.82814    5.14371\n",
      "    5.45437    5.76504    6.09135    6.41767    6.75551    7.08552\n",
      "    7.41553    7.74554    8.07907    8.40279    8.73142    9.05841\n",
      "    9.38051    9.70913   10.03123   10.36149   10.68195   11.01057\n",
      "   11.34083   11.66783   11.99809   12.32182   12.65209   12.98399\n",
      "   13.31099   13.63798   13.96498   14.28872   14.61572   14.94762\n",
      "   15.27298   15.59835   15.92535   16.25463   16.58233   16.9132\n",
      "   17.23796   17.56272   17.88748   18.21002   18.52945   18.85198\n",
      "   19.17898   19.50271   19.83788   20.16161   20.49024   20.81724\n",
      "   21.14751   21.47124   21.79988   22.12232   22.44802   22.76883\n",
      "   23.08634   23.41491   23.74347   24.07314   24.39964   24.72931   25.051\n",
      "   25.381     25.70102   26.053     26.40498   26.75695   27.02112\n",
      "   27.28786   27.5559    27.82394   28.09477   28.3656    28.63644\n",
      "   28.90727   29.2339    29.56053   29.88717   30.13608   30.39921\n",
      "   30.65717   30.91513   31.17374   31.42354   31.67335   31.92441\n",
      "   32.15958   32.39227   32.62496   32.85889   33.17838   33.50262\n",
      "   33.82211   34.15098   34.47504   34.8023    35.13502   35.45632\n",
      "   35.7874    36.11618   36.44331   36.77209   37.10017   37.4201\n",
      "   37.74491   38.07191   38.39728   38.72428   39.04965   39.37665\n",
      "   39.70366   40.02413   40.35113   40.68139   41.01003   41.33703\n",
      "   41.66893   41.99553   42.32214   42.6422    42.9643    43.28803\n",
      "   43.61667   43.94204   44.26169   44.59288   44.91089   45.24293\n",
      "   45.5717    45.9021    46.2311    46.56009   46.88745   47.21114\n",
      "   47.54129   47.86175   48.18394   48.5142    48.84123   49.1681\n",
      "   49.50972   49.85135   50.1248    50.39825   50.6717    50.94515\n",
      "   51.22026   51.49537   51.76914   52.08961   52.41008   52.73055\n",
      "   53.05048   53.37519   53.7015    54.02021   54.3454    54.65924\n",
      "   54.98674   55.31753   55.64337   55.97059   56.2978    56.62501\n",
      "   56.95219   57.2728    57.60491   57.93209   58.2525    58.58271\n",
      "   58.90638   59.23148   59.55657   59.88329   60.2081    60.53618\n",
      "   60.86099   61.18635   61.51007   61.83543   62.15946   62.47862\n",
      "   62.80754   63.12866   63.45798   63.78239   64.10933   64.43301\n",
      "   64.75832   65.08349   65.40866   65.73711   66.06481   66.39252\n",
      "   66.71858   67.04504   67.3715    67.69632   68.02247   68.34861\n",
      "   68.66983   69.00057   69.3248    69.65229   69.97649   70.30233\n",
      "   70.62653   70.95639   71.2797    71.60465   71.93259   72.25562\n",
      "   72.5852    72.9115    73.237     73.5625    73.8797    74.20996\n",
      "   74.53533   74.8558    75.17954   75.5098    75.83844   76.1687\n",
      "   76.50713   76.8472    77.1634    77.47805   77.78643   78.03559\n",
      "   78.28474   78.5339    78.78305   79.10505   79.43371   79.77737\n",
      "   80.11913   80.4609    80.80266   81.06107   81.31949   81.5779    81.9098\n",
      "   82.2368    82.56707   82.8957    83.22597   83.54807   83.85548\n",
      "   84.16312   84.48832   84.81352   85.11534   85.41717   85.71899\n",
      "   86.01345   86.30792   86.60238   86.92448   87.25475   87.57522\n",
      "   87.90222   88.22922   88.54969   88.88322   89.20462   89.5343    89.8557\n",
      "   90.1827    90.49501   90.80242   91.05034   91.29827   91.54744\n",
      "   91.80534   92.13071   92.45445   92.78635   93.11335   93.44198\n",
      "   93.76572   94.09435   94.42298   94.75978   95.06315   95.37605\n",
      "   95.70006   96.00873   96.33157   96.65599   96.99542   97.3332\n",
      "   97.67263   98.01468   98.35839   98.70209   98.94974   99.19488\n",
      "   99.45001   99.71012  100.03675  100.36339  100.69002  101.01665\n",
      "  101.34328  101.66992  101.99655  102.32318  102.64981  102.97645\n",
      "  103.31161  103.63697  103.9665   104.29114  104.61578  104.92899\n",
      "  105.23105  105.53311  105.83833  106.14354  106.47832  106.80498\n",
      "  107.12841  107.45667  107.78165  108.10663  108.43453  108.7608\n",
      "  109.08217  109.41334  109.73635  110.06098  110.38725  110.71679\n",
      "  111.03816  111.36933  111.69233  112.02023  112.34487  112.67114\n",
      "  112.99741  113.32272  113.64967  113.97169  114.29426  114.62012\n",
      "  114.94105  115.25771  115.58235  115.9054   116.22478  116.55051\n",
      "  116.87464  117.20205  117.52123  117.85192  118.17786  118.50381\n",
      "  118.82975  119.15733  119.48293  119.81018  120.13085  120.46241\n",
      "  120.78411  121.11074  121.43684  121.76294  122.09068  122.41858\n",
      "  122.74322  123.07112  123.40036  123.72796  124.04898  124.3764\n",
      "  124.70218  125.02961  125.3533   125.67698  126.0023   126.32641\n",
      "  126.65858  126.97786  127.30204  127.62783  127.952    128.27682\n",
      "  128.60328  128.92975  129.25615  129.58091  129.90896  130.23121\n",
      "  130.55674  130.88885  131.21082  131.53608  131.86299  132.18732\n",
      "  132.51328  132.83925  133.16574  133.48727  133.82039  134.14192\n",
      "  134.47235  134.79451  135.11666  135.44757  135.77195  136.09632\n",
      "  136.41989  136.74347  137.06704  137.39012  137.71969  138.04277\n",
      "  138.36015  138.6808   139.02104  139.34705  139.67306  139.99907\n",
      "  140.31888  140.64864  140.97508  141.30818  141.63632  141.9595\n",
      "  142.28803  142.61174  142.94028  143.273    143.59784  143.9148\n",
      "  144.16306  144.41131  144.65957  144.90782  145.15875  145.40968\n",
      "  145.66061  145.91154  146.22709  146.54265  146.85985  147.18059\n",
      "  147.50625  147.83357  148.15968  148.48579  148.81026  149.13521\n",
      "  149.46181  149.79005  150.1183   150.44059  150.77104  151.09823\n",
      "  151.4252   151.75379  152.08077  152.40569  152.73061  153.05877\n",
      "  153.38742  153.70791  154.04146  154.36014  154.6871   155.0091\n",
      "  155.33579  155.66248  155.98586  156.30717  156.63012  156.95307\n",
      "  157.27181  157.6019   157.92064  158.24748  158.56945  158.89629\n",
      "  159.22183  159.54579  159.87768  160.1962   160.52574  160.85687\n",
      "  161.13148  161.39446  161.65098  161.9075   162.16179  162.41095\n",
      "  162.66523  162.91952  163.17129  163.42306  163.67483  163.92408\n",
      "  164.23964  164.55521  164.87078  165.18917  165.50756  165.82595\n",
      "  166.15181  166.47767  166.80353  167.06498  167.32644  167.58789\n",
      "  167.84934  168.11025  168.37115  168.63206  168.89297  169.23149\n",
      "  169.55029  169.87566  170.20492  170.51937  170.84534  171.16706  171.497\n",
      "  171.83517  172.17718  172.50441  172.85136  173.19764  173.54392\n",
      "  173.8902   174.22309  174.54605  174.86901  175.15225  175.43549\n",
      "  175.71874  176.00198  176.31876  176.63554  176.95232  177.27352\n",
      "  177.59472  177.91593  178.23936  178.5628   178.88623  179.20778\n",
      "  179.52934  179.85089  180.18088  180.51087  180.84086  181.17237\n",
      "  181.50387  181.83538  182.16331  182.49123  182.81916  183.14453\n",
      "  183.46991  183.79528  184.11911  184.44294  184.76678  185.094    185.42122\n",
      "  185.74844  186.07718  186.40593  186.73467  187.06341  187.39156\n",
      "  187.71971  188.04786  188.37569  188.70351  189.03133  189.35593\n",
      "  189.68052  190.00511  190.33069  190.65627  190.98184  191.31107\n",
      "  191.6403   191.96953  192.29919  192.62885  192.95851  193.28747\n",
      "  193.61642  193.94538  194.27144  194.59749  194.92354  195.24976\n",
      "  195.57597  195.90218  196.2308   196.55942  196.88803  197.21733\n",
      "  197.54663  197.87593  198.20273  198.52953  198.85633  199.18316\n",
      "  199.50998  199.83681  200.18402  200.53123  200.87844  201.22157\n",
      "  201.56144  201.88824  202.21364  202.53581  202.86443  203.18783\n",
      "  203.51613  203.84116  204.16946  204.49611  204.81944  205.14647\n",
      "  205.4735   205.80053  206.12699  206.45345  206.77992  207.10556\n",
      "  207.43284  207.75849  208.08454  208.41223  208.73339  209.06051\n",
      "  209.38599  209.71311  210.04028  210.36581  210.69298  211.01851\n",
      "  211.34574  211.67135  211.99695  212.32246  212.64633  212.97674\n",
      "  213.29944  213.6254   213.953    214.27908  214.60515  214.93123\n",
      "  215.25862  215.58438  215.91178  216.23756  216.56334  216.88586\n",
      "  217.21268  217.53951  217.86633  218.19135  218.51799]\n"
     ]
    }
   ],
   "source": [
    "check_HDF5_Dataset(f[\"/analysis/tatums_start\"])"
   ]
  },
  {
   "cell_type": "markdown",
   "metadata": {},
   "source": [
    "## Check out /analysis/segments_pitches\n",
    "\n",
    "Note that we have a matrix of `971` rows and `12` columns for this variable, for this song. "
   ]
  },
  {
   "cell_type": "code",
   "execution_count": 9,
   "metadata": {
    "collapsed": false
   },
   "outputs": [
    {
     "name": "stdout",
     "output_type": "stream",
     "text": [
      "shape: (971, 12)\n",
      "dtype: float64\n",
      "type(bc.value): <class 'numpy.ndarray'>\n",
      "value: [[ 0.946  0.684  0.679 ...,  0.732  1.     0.742]\n",
      " [ 0.01   0.054  0.015 ...,  0.008  0.012  0.017]\n",
      " [ 0.296  0.993  1.    ...,  0.105  0.064  0.19 ]\n",
      " ..., \n",
      " [ 0.41   0.777  0.126 ...,  0.999  0.378  0.007]\n",
      " [ 0.373  0.697  1.    ...,  0.413  0.577  0.431]\n",
      " [ 0.877  1.     0.059 ...,  0.343  0.583  0.031]]\n"
     ]
    }
   ],
   "source": [
    "check_HDF5_Dataset(f[\"/analysis/segments_pitches\"])"
   ]
  },
  {
   "cell_type": "code",
   "execution_count": 22,
   "metadata": {
    "collapsed": false
   },
   "outputs": [
    {
     "name": "stdout",
     "output_type": "stream",
     "text": [
      "key: artist_mbtags\n",
      "key: artist_mbtags_count\n",
      "key: songs\n",
      "value: <HDF5 dataset \"artist_mbtags\": shape (0,), type \"|S256\">\n",
      "value: <HDF5 dataset \"artist_mbtags_count\": shape (0,), type \"<i4\">\n",
      "value: <HDF5 dataset \"songs\": shape (1,), type \"|V8\">\n"
     ]
    }
   ],
   "source": [
    "check_HDF5_Group(f[\"/musicbrainz\"])"
   ]
  },
  {
   "cell_type": "markdown",
   "metadata": {},
   "source": [
    "## Read in the \"additional\" HDF5 file"
   ]
  },
  {
   "cell_type": "code",
   "execution_count": 26,
   "metadata": {
    "collapsed": false
   },
   "outputs": [],
   "source": [
    "path_addl = \"/Users/David/Dropbox/Data/MillionSongSubset/AdditionalFiles\"\n",
    "file_addl = \"subset_msd_summary_file.h5\"\n",
    "f = h5py.File(path_addl+\"/\"+file_addl, \"r\")"
   ]
  },
  {
   "cell_type": "code",
   "execution_count": 28,
   "metadata": {
    "collapsed": false
   },
   "outputs": [
    {
     "data": {
      "text/plain": [
       "<HDF5 group \"/\" (3 members)>"
      ]
     },
     "execution_count": 28,
     "metadata": {},
     "output_type": "execute_result"
    }
   ],
   "source": [
    "f[\"/\"]"
   ]
  },
  {
   "cell_type": "code",
   "execution_count": 29,
   "metadata": {
    "collapsed": false
   },
   "outputs": [
    {
     "name": "stdout",
     "output_type": "stream",
     "text": [
      "key: analysis\n",
      "key: metadata\n",
      "key: musicbrainz\n",
      "value: <HDF5 group \"/analysis\" (1 members)>\n",
      "value: <HDF5 group \"/metadata\" (1 members)>\n",
      "value: <HDF5 group \"/musicbrainz\" (1 members)>\n"
     ]
    }
   ],
   "source": [
    "check_HDF5_Group(f[\"/\"])"
   ]
  },
  {
   "cell_type": "markdown",
   "metadata": {},
   "source": [
    "## Look at `/metadata`"
   ]
  },
  {
   "cell_type": "code",
   "execution_count": 37,
   "metadata": {
    "collapsed": false
   },
   "outputs": [
    {
     "data": {
      "text/plain": [
       "['songs']"
      ]
     },
     "execution_count": 37,
     "metadata": {},
     "output_type": "execute_result"
    }
   ],
   "source": [
    "list(f[\"/metadata\"].keys())"
   ]
  },
  {
   "cell_type": "markdown",
   "metadata": {},
   "source": [
    "We (someone) should compare these variables with those from the first file `y[0]` above. "
   ]
  },
  {
   "cell_type": "code",
   "execution_count": 40,
   "metadata": {
    "collapsed": false
   },
   "outputs": [
    {
     "data": {
      "text/plain": [
       "<HDF5 dataset \"songs\": shape (10000,), type \"|V5320\">"
      ]
     },
     "execution_count": 40,
     "metadata": {},
     "output_type": "execute_result"
    }
   ],
   "source": [
    "f[\"/metadata/songs\"]"
   ]
  },
  {
   "cell_type": "code",
   "execution_count": 76,
   "metadata": {
    "collapsed": false
   },
   "outputs": [
    {
     "name": "stdout",
     "output_type": "stream",
     "text": [
      "10000\n",
      "the first item of x: (b'', 29785, 0.7804617487770407, 0.5742747305168561, b'ARMQHX71187B9890D3', nan, b'Atlanta, GA', nan, b'bc5e2ad6-0a4a-4d90-b911-e9a7e6861727', b'Mastodon', -1, b'', 0, 0, b'Call of the Mastodon', 223563, 0.5976407977147769, b'SOVLGJY12A8C13FBED', b'Deep Sea Creature', 2442524)\n"
     ]
    },
    {
     "data": {
      "text/plain": [
       "array([ (b'', 29785, 0.7804617487770407, 0.5742747305168561, b'ARMQHX71187B9890D3', nan, b'Atlanta, GA', nan, b'bc5e2ad6-0a4a-4d90-b911-e9a7e6861727', b'Mastodon', -1, b'', 0, 0, b'Call of the Mastodon', 223563, 0.5976407977147769, b'SOVLGJY12A8C13FBED', b'Deep Sea Creature', 2442524)], \n",
       "      dtype=[('analyzer_version', 'S32'), ('artist_7digitalid', '<i4'), ('artist_familiarity', '<f8'), ('artist_hotttnesss', '<f8'), ('artist_id', 'S32'), ('artist_latitude', '<f8'), ('artist_location', 'S1024'), ('artist_longitude', '<f8'), ('artist_mbid', 'S40'), ('artist_name', 'S1024'), ('artist_playmeid', '<i4'), ('genre', 'S1024'), ('idx_artist_terms', '<i4'), ('idx_similar_artists', '<i4'), ('release', 'S1024'), ('release_7digitalid', '<i4'), ('song_hotttnesss', '<f8'), ('song_id', 'S32'), ('title', 'S1024'), ('track_7digitalid', '<i4')])"
      ]
     },
     "execution_count": 76,
     "metadata": {},
     "output_type": "execute_result"
    }
   ],
   "source": [
    "x = f[\"/metadata/songs\"].value\n",
    "print(len(x)) # number of songs in the million song subset\n",
    "print('the first item of x:', x[0])\n",
    "x[0:1] # shows variable names and types"
   ]
  },
  {
   "cell_type": "markdown",
   "metadata": {},
   "source": [
    "## Look at `/analysis`"
   ]
  },
  {
   "cell_type": "code",
   "execution_count": 46,
   "metadata": {
    "collapsed": false
   },
   "outputs": [
    {
     "data": {
      "text/plain": [
       "['songs']"
      ]
     },
     "execution_count": 46,
     "metadata": {},
     "output_type": "execute_result"
    }
   ],
   "source": [
    "list(f[\"/analysis\"].keys())"
   ]
  },
  {
   "cell_type": "code",
   "execution_count": 49,
   "metadata": {
    "collapsed": false
   },
   "outputs": [
    {
     "name": "stdout",
     "output_type": "stream",
     "text": [
      "10000\n",
      "(22050, b'a600d65cf157a306be60f26ecbf218f4', 0.0, 280.21506, 0.238, 0.0, 0, 0, 0, 0, 0, 0, 0, 0, 0, 0, 0, 0, 0, 0, 0, 5, 0.555, -3.306, 1, 0.5, 275.528, 173.205, 5, 0.12, b'TRACCVZ128F4291A8A')\n"
     ]
    }
   ],
   "source": [
    "x = f[\"/analysis/songs\"].value\n",
    "print(len(x))\n",
    "print(x[0])"
   ]
  },
  {
   "cell_type": "markdown",
   "metadata": {},
   "source": [
    "## Look at `/musicbrainz`"
   ]
  },
  {
   "cell_type": "code",
   "execution_count": 51,
   "metadata": {
    "collapsed": false
   },
   "outputs": [
    {
     "data": {
      "text/plain": [
       "['songs']"
      ]
     },
     "execution_count": 51,
     "metadata": {},
     "output_type": "execute_result"
    }
   ],
   "source": [
    "list(f[\"/musicbrainz\"].keys())"
   ]
  },
  {
   "cell_type": "code",
   "execution_count": 53,
   "metadata": {
    "collapsed": false
   },
   "outputs": [
    {
     "name": "stdout",
     "output_type": "stream",
     "text": [
      "10000\n",
      "(0, 2001) (0, 1984)\n"
     ]
    }
   ],
   "source": [
    "x = f[\"/musicbrainz/songs\"].value\n",
    "print(len(x))\n",
    "print(x[0],x[1])"
   ]
  },
  {
   "cell_type": "code",
   "execution_count": 63,
   "metadata": {
    "collapsed": false
   },
   "outputs": [
    {
     "data": {
      "text/plain": [
       "((10000,), (0, 2001), [0, 2001], 2001)"
      ]
     },
     "execution_count": 63,
     "metadata": {},
     "output_type": "execute_result"
    }
   ],
   "source": [
    "x.shape, x[0], list(x[0]), list(x[0])[1]"
   ]
  },
  {
   "cell_type": "markdown",
   "metadata": {},
   "source": [
    "The first value of each of the 10,000 2-tuples is a zero."
   ]
  },
  {
   "cell_type": "code",
   "execution_count": 66,
   "metadata": {
    "collapsed": false
   },
   "outputs": [
    {
     "data": {
      "text/plain": [
       "{0}"
      ]
     },
     "execution_count": 66,
     "metadata": {},
     "output_type": "execute_result"
    }
   ],
   "source": [
    "set([list(item)[0] for item in x]) "
   ]
  },
  {
   "cell_type": "markdown",
   "metadata": {},
   "source": [
    "So it looks like `/musicbrainz/songs` contains only the year of the song."
   ]
  },
  {
   "cell_type": "markdown",
   "metadata": {},
   "source": [
    "Details to put somewhere else that shouldn't be forgotten:\n",
    "\n",
    "- Artist IDs likely start with \"AR\"\n",
    "- Track IDs likely start with \"TR\"\n",
    "- Song IDs likely start with \"SO\"\n",
    "- The `_mb` extension likely indicates _Music Brainz_ information. "
   ]
  },
  {
   "cell_type": "code",
   "execution_count": null,
   "metadata": {
    "collapsed": true
   },
   "outputs": [],
   "source": []
  }
 ],
 "metadata": {
  "kernelspec": {
   "display_name": "Python 3",
   "language": "python",
   "name": "python3"
  },
  "language_info": {
   "codemirror_mode": {
    "name": "ipython",
    "version": 3
   },
   "file_extension": ".py",
   "mimetype": "text/x-python",
   "name": "python",
   "nbconvert_exporter": "python",
   "pygments_lexer": "ipython3",
   "version": "3.5.1"
  }
 },
 "nbformat": 4,
 "nbformat_minor": 0
}
